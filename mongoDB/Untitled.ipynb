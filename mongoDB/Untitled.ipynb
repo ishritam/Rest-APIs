{
 "cells": [
  {
   "cell_type": "markdown",
   "metadata": {},
   "source": [
    "# Querying Json Documents\n",
    "\n"
   ]
  },
  {
   "cell_type": "code",
   "execution_count": null,
   "metadata": {},
   "outputs": [],
   "source": [
    "# * connection to the db\n",
    "# * create a collection \n",
    "# * add json document to the collection\n",
    "# * find()\n",
    "# * $in, $gt, $lt, $and, $or"
   ]
  },
  {
   "cell_type": "code",
   "execution_count": 6,
   "metadata": {},
   "outputs": [
    {
     "name": "stdout",
     "output_type": "stream",
     "text": [
      "collection--> Collection(Database(MongoClient(host=['127.0.0.1:27017'], document_class=dict, tz_aware=False, connect=True), 'test_0'), 'books')\n"
     ]
    }
   ],
   "source": [
    "import pymongo\n",
    "\n",
    "#establishing the connection\n",
    "clint = pymongo.MongoClient('mongodb://127.0.0.1:27017/')\n",
    "\n",
    "#creating a database\n",
    "db = clint['test_0']\n",
    "\n",
    "#creating a collection or table\n",
    "coll = db.books\n",
    "print(f'collection--> {coll}')"
   ]
  },
  {
   "cell_type": "code",
   "execution_count": 7,
   "metadata": {},
   "outputs": [
    {
     "data": {
      "text/plain": [
       "pymongo.collection.Collection"
      ]
     },
     "execution_count": 7,
     "metadata": {},
     "output_type": "execute_result"
    }
   ],
   "source": [
    "type(coll)"
   ]
  },
  {
   "cell_type": "code",
   "execution_count": 42,
   "metadata": {},
   "outputs": [
    {
     "name": "stdout",
     "output_type": "stream",
     "text": [
      "result id: 139691936941320\n"
     ]
    }
   ],
   "source": [
    "data = [{\"id\":0, \"language\": \"Go\", \"edition\": \"Zeroth\", \"author\": \"Not Added\",\"age\":5},\n",
    "{\"id\":1, \"language\": \"Python\", \"edition\": \"first\", \"author\": \"Rosoom\",'age':15},\n",
    "{\"id\":2, \"language\": \"JSON\", \"edition\": \"first\", \"author\": \"Derrick Mwiti\", 'age':10},\n",
    "{\"id\":3, \"language\": \"JAVA\", \"edition\": \"Third\", \"author\": \"Markov\",'age':20},\n",
    "{\"id\":4, \"language\": \"Java Script\", \"edition\": \"Fourth\", \"author\": \"Ranbow\",'age':13}]\n",
    "\n",
    "result = coll.insert_many(data)\n",
    "print(f\"result id: {id(result)}\")"
   ]
  },
  {
   "cell_type": "code",
   "execution_count": 8,
   "metadata": {},
   "outputs": [
    {
     "data": {
      "text/plain": [
       "{'_id': ObjectId('5f11cab22b7e295b3fcea69c'),\n",
       " 'id': 0,\n",
       " 'author': 'Not Added',\n",
       " 'language': 'Go',\n",
       " 'edition': 'Zeroth'}"
      ]
     },
     "execution_count": 8,
     "metadata": {},
     "output_type": "execute_result"
    }
   ],
   "source": [
    "## Simple way of querying\n",
    "coll.find_one()"
   ]
  },
  {
   "cell_type": "code",
   "execution_count": 19,
   "metadata": {},
   "outputs": [
    {
     "data": {
      "text/plain": [
       "True"
      ]
     },
     "execution_count": 19,
     "metadata": {},
     "output_type": "execute_result"
    }
   ],
   "source": [
    "2 in [i['id'] for i in coll.find({},{'id':1})]"
   ]
  },
  {
   "cell_type": "code",
   "execution_count": 44,
   "metadata": {},
   "outputs": [
    {
     "name": "stdout",
     "output_type": "stream",
     "text": [
      "{'_id': ObjectId('5f118203f967a0ec87be54a2'), 'id': 0, 'language': 'Go', 'edition': 'Zeroth', 'author': 'Not Added', 'age': 5}\n",
      "{'_id': ObjectId('5f118203f967a0ec87be54a3'), 'id': 1, 'language': 'Python', 'edition': 'first', 'author': 'Rosoom', 'age': 15}\n",
      "{'_id': ObjectId('5f118203f967a0ec87be54a4'), 'id': 2, 'language': 'JSON', 'edition': 'first', 'author': 'Derrick Mwiti', 'age': 10}\n",
      "{'_id': ObjectId('5f118203f967a0ec87be54a5'), 'id': 3, 'language': 'JAVA', 'edition': 'Third', 'author': 'Markov', 'age': 20}\n",
      "{'_id': ObjectId('5f118203f967a0ec87be54a6'), 'id': 4, 'language': 'Java Script', 'edition': 'Fourth', 'author': 'Ranbow', 'age': 13}\n"
     ]
    }
   ],
   "source": [
    "for i in coll.find():\n",
    "    print(i)"
   ]
  },
  {
   "cell_type": "code",
   "execution_count": 45,
   "metadata": {},
   "outputs": [
    {
     "name": "stdout",
     "output_type": "stream",
     "text": [
      "{'_id': ObjectId('5f118203f967a0ec87be54a2'), 'id': 0, 'language': 'Go', 'edition': 'Zeroth', 'author': 'Not Added', 'age': 5}\n",
      "{'_id': ObjectId('5f118203f967a0ec87be54a3'), 'id': 1, 'language': 'Python', 'edition': 'first', 'author': 'Rosoom', 'age': 15}\n",
      "{'_id': ObjectId('5f118203f967a0ec87be54a4'), 'id': 2, 'language': 'JSON', 'edition': 'first', 'author': 'Derrick Mwiti', 'age': 10}\n",
      "{'_id': ObjectId('5f118203f967a0ec87be54a5'), 'id': 3, 'language': 'JAVA', 'edition': 'Third', 'author': 'Markov', 'age': 20}\n",
      "{'_id': ObjectId('5f118203f967a0ec87be54a6'), 'id': 4, 'language': 'Java Script', 'edition': 'Fourth', 'author': 'Ranbow', 'age': 13}\n"
     ]
    }
   ],
   "source": [
    "for i in coll.find({}):\n",
    "    print(i)"
   ]
  },
  {
   "cell_type": "code",
   "execution_count": 46,
   "metadata": {},
   "outputs": [
    {
     "name": "stdout",
     "output_type": "stream",
     "text": [
      "{'_id': ObjectId('5f118203f967a0ec87be54a3'), 'id': 1, 'language': 'Python', 'edition': 'first', 'author': 'Rosoom', 'age': 15}\n"
     ]
    }
   ],
   "source": [
    "#query on json document based on equality condition\n",
    "#SELECT * FROM coll WHERE language==python\n",
    "for data in coll.find({'language':'Python'}):\n",
    "    print(data)"
   ]
  },
  {
   "cell_type": "code",
   "execution_count": 47,
   "metadata": {},
   "outputs": [
    {
     "name": "stdout",
     "output_type": "stream",
     "text": [
      "{'_id': ObjectId('5f118203f967a0ec87be54a2'), 'id': 0, 'language': 'Go', 'edition': 'Zeroth', 'author': 'Not Added', 'age': 5}\n",
      "{'_id': ObjectId('5f118203f967a0ec87be54a3'), 'id': 1, 'language': 'Python', 'edition': 'first', 'author': 'Rosoom', 'age': 15}\n",
      "{'_id': ObjectId('5f118203f967a0ec87be54a4'), 'id': 2, 'language': 'JSON', 'edition': 'first', 'author': 'Derrick Mwiti', 'age': 10}\n"
     ]
    }
   ],
   "source": [
    "# Query json document using query operator\n",
    "# $in, $gt, $it\n",
    "#SELECT * FROM coll WHERE edition= seroth or first\n",
    "for data in coll.find({'edition':{'$in': ['Zeroth','first']}}):\n",
    "    print(data)"
   ]
  },
  {
   "cell_type": "code",
   "execution_count": 48,
   "metadata": {},
   "outputs": [
    {
     "name": "stdout",
     "output_type": "stream",
     "text": [
      "{'_id': ObjectId('5f118203f967a0ec87be54a3'), 'id': 1, 'language': 'Python', 'edition': 'first', 'author': 'Rosoom', 'age': 15}\n",
      "{'_id': ObjectId('5f118203f967a0ec87be54a4'), 'id': 2, 'language': 'JSON', 'edition': 'first', 'author': 'Derrick Mwiti', 'age': 10}\n"
     ]
    }
   ],
   "source": [
    "#AND \n",
    "#AND can be added by putting a comma ',', also you can use $and\n",
    "# $lt --> less then\n",
    "#SELECT * from coll WHere edition==first and age<20;\n",
    "for data in coll.find({'edition':'first','age':{'$lt':20}}):\n",
    "    print(data)"
   ]
  },
  {
   "cell_type": "code",
   "execution_count": 57,
   "metadata": {},
   "outputs": [
    {
     "name": "stdout",
     "output_type": "stream",
     "text": [
      "{'_id': ObjectId('5f118203f967a0ec87be54a3'), 'id': 1, 'language': 'Python', 'edition': 'first', 'author': 'Rosoom', 'age': 15}\n",
      "{'_id': ObjectId('5f118203f967a0ec87be54a4'), 'id': 2, 'language': 'JSON', 'edition': 'first', 'author': 'Derrick Mwiti', 'age': 10}\n"
     ]
    }
   ],
   "source": [
    "# AND\n",
    "#$and\n",
    "#SELECT * FROM coll WHERE edition=first and language=python\n",
    "for data in coll.find({'$and':[{'edition':'first','age':{'$lt':20}}]}):\n",
    "    print(data)\n"
   ]
  },
  {
   "cell_type": "code",
   "execution_count": 49,
   "metadata": {},
   "outputs": [
    {
     "name": "stdout",
     "output_type": "stream",
     "text": [
      "{'_id': ObjectId('5f118203f967a0ec87be54a3'), 'id': 1, 'language': 'Python', 'edition': 'first', 'author': 'Rosoom', 'age': 15}\n"
     ]
    }
   ],
   "source": [
    "# $gt --> greater then\n",
    "#SELECT * from coll WHere edition==first and age>10;\n",
    "for data in coll.find({'edition':'first','age':{'$gt':10}}):\n",
    "    print(data)"
   ]
  },
  {
   "cell_type": "code",
   "execution_count": 54,
   "metadata": {},
   "outputs": [
    {
     "name": "stdout",
     "output_type": "stream",
     "text": [
      "{'_id': ObjectId('5f118203f967a0ec87be54a3'), 'id': 1, 'language': 'Python', 'edition': 'first', 'author': 'Rosoom', 'age': 15}\n",
      "{'_id': ObjectId('5f118203f967a0ec87be54a4'), 'id': 2, 'language': 'JSON', 'edition': 'first', 'author': 'Derrick Mwiti', 'age': 10}\n"
     ]
    }
   ],
   "source": [
    "# OR\n",
    "#$or\n",
    "#SELECT * FROM coll WHERE edition=first or edition First\n",
    "for data in coll.find({'$or':[{'edition':'first'},{'edition':'First'}]}):\n",
    "    print(data)"
   ]
  },
  {
   "cell_type": "code",
   "execution_count": 56,
   "metadata": {},
   "outputs": [
    {
     "name": "stdout",
     "output_type": "stream",
     "text": [
      "{'_id': ObjectId('5f118203f967a0ec87be54a3'), 'id': 1, 'language': 'Python', 'edition': 'first', 'author': 'Rosoom', 'age': 15}\n"
     ]
    }
   ],
   "source": [
    "# AND\n",
    "#$and\n",
    "#SELECT * FROM coll WHERE edition=first and language=python\n",
    "for data in coll.find({'edition':'first','language':'Python'}):\n",
    "    print(data)\n"
   ]
  },
  {
   "cell_type": "code",
   "execution_count": 124,
   "metadata": {},
   "outputs": [
    {
     "data": {
      "text/plain": [
       "<pymongo.cursor.Cursor at 0x7f0c5eea69b0>"
      ]
     },
     "execution_count": 124,
     "metadata": {},
     "output_type": "execute_result"
    }
   ],
   "source": [
    "coll.find({'id':1})"
   ]
  },
  {
   "cell_type": "markdown",
   "metadata": {},
   "source": [
    "# Functions\n",
    "> * update_one()\n",
    "* update_many()\n",
    "* replace_one()"
   ]
  },
  {
   "cell_type": "code",
   "execution_count": 58,
   "metadata": {},
   "outputs": [],
   "source": [
    "#creating a collection or table\n",
    "new_coll = db.quest"
   ]
  },
  {
   "cell_type": "code",
   "execution_count": 94,
   "metadata": {},
   "outputs": [],
   "source": [
    "query = [{\"q0\": \"Which one is correct team name in NBA?\",\n",
    "          \"options\": {'op1':\"New York Bulls\",\n",
    "                      'op2':\"Los Angeles Kings\",\n",
    "                      'op3':\"Golden State Warriros\",\n",
    "                      'op4':\"Huston Rocket\"},\n",
    "                \"answer\": \"Huston Rocket\"},\n",
    "        {\"q1\":\"5 + 7 = ?\",\n",
    "                \"options\": {\n",
    "                    'op1':\"10\",\n",
    "                    'op2':\"11\",\n",
    "                    'op3':\"12\",\n",
    "                    'op4':\"13\"\n",
    "                },\n",
    "                \"answer\": \"12\"},\n",
    "        {\"q2\": \"12 - 8 = ?\",\n",
    "                \"options\": {\n",
    "                    'op1':\"1\",\n",
    "                    'op2':\"2\",\n",
    "                    'op3':\"3\",\n",
    "                    'op4':\"4\"\n",
    "                },\n",
    "                \"answer\": \"4\"},\n",
    "         {\"q3\": \"50 + 70 = ?\",\n",
    "                \"options\": {\n",
    "                    'op1':\"100\",\n",
    "                    'op2':\"110\",\n",
    "                    'op3':\"120\",\n",
    "                    'op4':\"130\"\n",
    "                },\n",
    "                \"answer\": \"120\"},\n",
    "         {\"q4\":\"Which one is correct Cricket Council of our country?\",\n",
    "                \"options\": {'op1':\"ICC\",\n",
    "                            'op2':\"ICICI\",\n",
    "                            'op3':\"LIC\",\n",
    "                            'op4':\"CC\"},\n",
    "                \"answer\": \"Huston Rocket\"}\n",
    "]"
   ]
  },
  {
   "cell_type": "code",
   "execution_count": 95,
   "metadata": {},
   "outputs": [
    {
     "data": {
      "text/plain": [
       "<pymongo.results.InsertManyResult at 0x7f0c9046eb08>"
      ]
     },
     "execution_count": 95,
     "metadata": {},
     "output_type": "execute_result"
    }
   ],
   "source": [
    "new_coll.insert_many(query)"
   ]
  },
  {
   "cell_type": "code",
   "execution_count": null,
   "metadata": {},
   "outputs": [],
   "source": [
    "[{'id': 1, 'language': 'Python', 'edition': 'Second', 'author': 'Denish'}]"
   ]
  },
  {
   "cell_type": "code",
   "execution_count": 123,
   "metadata": {},
   "outputs": [
    {
     "data": {
      "text/plain": [
       "<pymongo.results.InsertManyResult at 0x7f0c903f5248>"
      ]
     },
     "execution_count": 123,
     "metadata": {},
     "output_type": "execute_result"
    }
   ],
   "source": [
    "new_coll.insert_many([{'id': 1, 'language': 'Python', 'edition': 'Second', 'author': 'Denish'}])"
   ]
  },
  {
   "cell_type": "code",
   "execution_count": 96,
   "metadata": {},
   "outputs": [
    {
     "data": {
      "text/plain": [
       "<pymongo.results.UpdateResult at 0x7f0c90425ac8>"
      ]
     },
     "execution_count": 96,
     "metadata": {},
     "output_type": "execute_result"
    }
   ],
   "source": [
    "new_coll.update_one({\"q4\":\"Which one is correct Cricket Council of our country?\"},\n",
    "                    {\"$set\":{\"answer\":\"ICC\"},'$currentDate':{'UpdatedON':True}})"
   ]
  },
  {
   "cell_type": "code",
   "execution_count": 97,
   "metadata": {},
   "outputs": [
    {
     "data": {
      "text/plain": [
       "<pymongo.results.UpdateResult at 0x7f0c90425e48>"
      ]
     },
     "execution_count": 97,
     "metadata": {},
     "output_type": "execute_result"
    }
   ],
   "source": [
    "#how to insert a new field on an existing document\n",
    "new_coll.update_many({\"mark\":{\"$exists\":False}},{'$set':{'mark':20}})"
   ]
  },
  {
   "cell_type": "code",
   "execution_count": 98,
   "metadata": {},
   "outputs": [
    {
     "name": "stdout",
     "output_type": "stream",
     "text": [
      "{'_id': ObjectId('5f119740f967a0ec87be54ad'), 'q0': 'Which one is correct team name in NBA?', 'options': {'op1': 'New York Bulls', 'op2': 'Los Angeles Kings', 'op3': 'Golden State Warriros', 'op4': 'Huston Rocket'}, 'answer': 'Huston Rocket', 'mark': 20}\n",
      "{'_id': ObjectId('5f119740f967a0ec87be54ae'), 'q1': '5 + 7 = ?', 'options': {'op1': '10', 'op2': '11', 'op3': '12', 'op4': '13'}, 'answer': '12', 'mark': 20}\n",
      "{'_id': ObjectId('5f119740f967a0ec87be54af'), 'q2': '12 - 8 = ?', 'options': {'op1': '1', 'op2': '2', 'op3': '3', 'op4': '4'}, 'answer': '4', 'mark': 20}\n",
      "{'_id': ObjectId('5f119740f967a0ec87be54b0'), 'q3': '50 + 70 = ?', 'options': {'op1': '100', 'op2': '110', 'op3': '120', 'op4': '130'}, 'answer': '120', 'mark': 20}\n",
      "{'_id': ObjectId('5f119740f967a0ec87be54b1'), 'q4': 'Which one is correct Cricket Council of our country?', 'options': {'op1': 'ICC', 'op2': 'ICICI', 'op3': 'LIC', 'op4': 'CC'}, 'answer': 'ICC', 'UpdatedON': datetime.datetime(2020, 7, 17, 12, 19, 19, 337000), 'mark': 20}\n"
     ]
    }
   ],
   "source": [
    "for i in new_coll.find({}):\n",
    "    print(i)"
   ]
  },
  {
   "cell_type": "code",
   "execution_count": 127,
   "metadata": {},
   "outputs": [
    {
     "data": {
      "text/plain": [
       "<pymongo.results.UpdateResult at 0x7f0c5eed3a88>"
      ]
     },
     "execution_count": 127,
     "metadata": {},
     "output_type": "execute_result"
    }
   ],
   "source": [
    "new_coll.update_many({'mark':20},\n",
    "                    {'$set':{'options.op2':'None of These!!'},'$currentDate':{'LastUpdated':True}})"
   ]
  },
  {
   "cell_type": "code",
   "execution_count": 100,
   "metadata": {},
   "outputs": [
    {
     "name": "stdout",
     "output_type": "stream",
     "text": [
      "{'_id': ObjectId('5f119740f967a0ec87be54ad'), 'q0': 'Which one is correct team name in NBA?', 'options': {'op1': 'New York Bulls', 'op2': 'None of these!!', 'op3': 'Golden State Warriros', 'op4': 'Huston Rocket'}, 'answer': 'Huston Rocket', 'mark': 20, 'LastUpdated': datetime.datetime(2020, 7, 17, 12, 19, 38, 381000)}\n",
      "{'_id': ObjectId('5f119740f967a0ec87be54ae'), 'q1': '5 + 7 = ?', 'options': {'op1': '10', 'op2': 'None of these!!', 'op3': '12', 'op4': '13'}, 'answer': '12', 'mark': 20, 'LastUpdated': datetime.datetime(2020, 7, 17, 12, 19, 38, 381000)}\n",
      "{'_id': ObjectId('5f119740f967a0ec87be54af'), 'q2': '12 - 8 = ?', 'options': {'op1': '1', 'op2': 'None of these!!', 'op3': '3', 'op4': '4'}, 'answer': '4', 'mark': 20, 'LastUpdated': datetime.datetime(2020, 7, 17, 12, 19, 38, 381000)}\n",
      "{'_id': ObjectId('5f119740f967a0ec87be54b0'), 'q3': '50 + 70 = ?', 'options': {'op1': '100', 'op2': 'None of these!!', 'op3': '120', 'op4': '130'}, 'answer': '120', 'mark': 20, 'LastUpdated': datetime.datetime(2020, 7, 17, 12, 19, 38, 381000)}\n",
      "{'_id': ObjectId('5f119740f967a0ec87be54b1'), 'q4': 'Which one is correct Cricket Council of our country?', 'options': {'op1': 'ICC', 'op2': 'None of these!!', 'op3': 'LIC', 'op4': 'CC'}, 'answer': 'ICC', 'UpdatedON': datetime.datetime(2020, 7, 17, 12, 19, 19, 337000), 'mark': 20, 'LastUpdated': datetime.datetime(2020, 7, 17, 12, 19, 38, 381000)}\n"
     ]
    }
   ],
   "source": [
    "for i in new_coll.find({}):\n",
    "    print(i)"
   ]
  },
  {
   "cell_type": "code",
   "execution_count": 115,
   "metadata": {},
   "outputs": [
    {
     "data": {
      "text/plain": [
       "datetime.datetime(2020, 7, 17, 18, 16, 38, 688659)"
      ]
     },
     "execution_count": 115,
     "metadata": {},
     "output_type": "execute_result"
    }
   ],
   "source": [
    "import datetime\n",
    "\n",
    "datetime.datetime.now()"
   ]
  },
  {
   "cell_type": "code",
   "execution_count": 118,
   "metadata": {},
   "outputs": [
    {
     "data": {
      "text/plain": [
       "<pymongo.results.UpdateResult at 0x7f0c903eeb88>"
      ]
     },
     "execution_count": 118,
     "metadata": {},
     "output_type": "execute_result"
    }
   ],
   "source": [
    "#Replace\n",
    "new_coll.replace_one({'q4': 'Which one is correct Cricket Council of our country?'},\n",
    "                      {'q4': 'Which one is correct Cricket Council of our country?',\n",
    "                      'options': {'op1': 'ICC', 'op2': 'None of these!!', 'op3': 'LIC', 'op4': 'CC'},\n",
    "                      'answer': 'ICC',\n",
    "                      'mark': 20, \n",
    "                      'LastUpdated':datetime.datetime.now()\n",
    "                      })"
   ]
  },
  {
   "cell_type": "code",
   "execution_count": 122,
   "metadata": {},
   "outputs": [
    {
     "data": {
      "text/plain": [
       "<pymongo.cursor.Cursor at 0x7f0c90417748>"
      ]
     },
     "execution_count": 122,
     "metadata": {},
     "output_type": "execute_result"
    }
   ],
   "source": [
    "coll.find({'q4': 'Which one is correct Cricket Council of our country?'})"
   ]
  },
  {
   "cell_type": "code",
   "execution_count": null,
   "metadata": {},
   "outputs": [],
   "source": []
  }
 ],
 "metadata": {
  "kernelspec": {
   "display_name": "python3_shritam",
   "language": "python",
   "name": "python3_myenv"
  },
  "language_info": {
   "codemirror_mode": {
    "name": "ipython",
    "version": 3
   },
   "file_extension": ".py",
   "mimetype": "text/x-python",
   "name": "python",
   "nbconvert_exporter": "python",
   "pygments_lexer": "ipython3",
   "version": "3.6.10"
  }
 },
 "nbformat": 4,
 "nbformat_minor": 2
}
